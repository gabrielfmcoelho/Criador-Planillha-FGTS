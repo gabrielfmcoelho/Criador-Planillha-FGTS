{
 "cells": [
  {
   "cell_type": "code",
   "execution_count": 4,
   "metadata": {},
   "outputs": [
    {
     "ename": "FileExistsError",
     "evalue": "[WinError 183] Não é possível criar um arquivo já existente: './pdf/guia_10.pdf' -> './pdf/guia_2.pdf'",
     "output_type": "error",
     "traceback": [
      "\u001b[1;31m---------------------------------------------------------------------------\u001b[0m",
      "\u001b[1;31mFileExistsError\u001b[0m                           Traceback (most recent call last)",
      "Cell \u001b[1;32mIn[4], line 8\u001b[0m\n\u001b[0;32m      5\u001b[0m src \u001b[39m=\u001b[39m\u001b[39m'\u001b[39m\u001b[39m./pdf/\u001b[39m\u001b[39m'\u001b[39m\u001b[39m+\u001b[39m filename \n\u001b[0;32m      6\u001b[0m dst \u001b[39m=\u001b[39m\u001b[39m'\u001b[39m\u001b[39m./pdf/\u001b[39m\u001b[39m'\u001b[39m\u001b[39m+\u001b[39m dst \n\u001b[1;32m----> 8\u001b[0m os\u001b[39m.\u001b[39;49mrename(src, dst)\n",
      "\u001b[1;31mFileExistsError\u001b[0m: [WinError 183] Não é possível criar um arquivo já existente: './pdf/guia_10.pdf' -> './pdf/guia_2.pdf'"
     ]
    }
   ],
   "source": [
    "import os\n",
    "\n",
    "for count, filename in enumerate(os.listdir(\"./pdf/\")): \n",
    "        dst =\"guia_\" + str(count) + \".pdf\"\n",
    "        src ='./pdf/'+ filename \n",
    "        dst ='./pdf/'+ dst \n",
    "        \n",
    "        os.rename(src, dst)"
   ]
  },
  {
   "cell_type": "code",
   "execution_count": 9,
   "metadata": {},
   "outputs": [
    {
     "name": "stdout",
     "output_type": "stream",
     "text": [
      "Abril\n",
      "2018\n",
      "151.31\n",
      "Maio\n",
      "2018\n",
      "150.77\n",
      "o\n",
      "2019\n",
      "145.32\n",
      "Abril\n",
      "2019\n",
      "144.78\n",
      "Maio\n",
      "2019\n",
      "150.9\n",
      "Junho\n",
      "2019\n",
      "200.44\n",
      "Julho\n",
      "2019\n",
      "149.76\n",
      "Agosto\n",
      "2019\n",
      "149.19\n",
      "Setembro\n",
      "2019\n",
      "148.62\n",
      "Outubro\n",
      "2019\n",
      "148.05\n",
      "Novembro\n",
      "2019\n",
      "221.23\n",
      "Dezembro\n",
      "2019\n",
      "220.37\n",
      "Junho\n",
      "2018\n",
      "170.26\n",
      "Janeiro\n",
      "2020\n",
      "152.36\n",
      "Fevereiro\n",
      "2020\n",
      "152.66\n",
      "Abril\n",
      "2020\n",
      "150.28\n",
      "Maio\n",
      "2020\n",
      "150.28\n",
      "Junho\n",
      "2020\n",
      "200.34\n",
      "Julho\n",
      "2020\n",
      "149.68\n",
      "Agosto\n",
      "2020\n",
      "149.09\n",
      "Setembro\n",
      "2020\n",
      "148.49\n",
      "Outubro\n",
      "2020\n",
      "147.89\n",
      "Novembro\n",
      "2020\n",
      "220.96\n",
      "Julho\n",
      "2018\n",
      "182.53\n",
      "Dezembro\n",
      "2020\n",
      "223.34\n",
      "Janeiro\n",
      "2021\n",
      "153.78\n",
      "Fevereiro\n",
      "2021\n",
      "153.15\n",
      "o\n",
      "2021\n",
      "152.52\n",
      "Abril\n",
      "2021\n",
      "149.38\n",
      "Abril\n",
      "2021\n",
      "149.38\n",
      "Junho\n",
      "2021\n",
      "199.18\n",
      "Julho\n",
      "2021\n",
      "149.38\n",
      "Agosto\n",
      "2021\n",
      "149.38\n",
      "Setembro\n",
      "2021\n",
      "148.75\n",
      "Agosto\n",
      "2018\n",
      "149.13\n",
      "Outubro\n",
      "2021\n",
      "148.12\n",
      "Novembro\n",
      "2021\n",
      "221.27\n",
      "Setembro\n",
      "2018\n",
      "148.59\n",
      "Novembro\n",
      "2018\n",
      "221.27\n",
      "Dezembro\n",
      "2018\n",
      "220.45\n",
      "Janeiro\n",
      "2019\n",
      "146.41\n",
      "Fevereiro\n",
      "2019\n",
      "145.87\n",
      "<class 'pandas.core.frame.DataFrame'>\n",
      "Int64Index: 42 entries, 0 to 41\n",
      "Data columns (total 4 columns):\n",
      " #   Column  Non-Null Count  Dtype  \n",
      "---  ------  --------------  -----  \n",
      " 0   Ano     42 non-null     object \n",
      " 1   Mes     40 non-null     float64\n",
      " 2   Valor   42 non-null     float64\n",
      " 3   Guia    42 non-null     object \n",
      "dtypes: float64(2), object(2)\n",
      "memory usage: 1.6+ KB\n",
      "None\n"
     ]
    }
   ],
   "source": [
    "import PyPDF2\n",
    "import re\n",
    "import pandas as pd\n",
    "import numpy as np\n",
    "import os\n",
    "\n",
    "while True:\n",
    "\n",
    "    dicionario_meses = {'Janeiro': 1, 'Fevereiro': 2, 'Marco': 3, 'Abril': 4, 'Maio': 5, 'Junho': 6, 'Julho': 7, 'Agosto': 8, 'Setembro': 9, 'Outubro': 10, 'Novembro': 11, 'Dezembro': 12}\n",
    "\n",
    "    df_extracao = pd.DataFrame(columns=['Ano', 'Mes', 'Valor', 'Guia'])\n",
    "\n",
    "    for count, filename in enumerate(os.listdir(\"./pdf/\")):\n",
    "\n",
    "        mes = ''\n",
    "        ano = ''\n",
    "        valor = 0.0\n",
    "\n",
    "        pdf_file = open(f'./pdf/{filename}', 'rb')\n",
    "\n",
    "        read_pdf = PyPDF2.PdfReader(pdf_file)\n",
    "        texto = read_pdf.pages[0].extract_text()[105:]\n",
    "        texto = texto.replace('ç', 'c')\n",
    "\n",
    "        mes = re.findall(r'[a-zA-Z]+\\/', texto)[0][:-1]\n",
    "        print(mes)\n",
    "\n",
    "        ano = re.findall(r'\\/[0-9]+', texto)[0][1:]\n",
    "        print(ano)\n",
    "\n",
    "        valor = re.findall(r'[0-9]+,[0-9]+CPF', texto)[0][:-3]\n",
    "        valor = valor.replace(',', '.',)\n",
    "        valor = float(valor)\n",
    "        print(valor)\n",
    "\n",
    "        df_extracao.loc[count] = [ano, mes, valor, filename]\n",
    "\n",
    "    df_extracao['Mes'] = df_extracao['Mes'].map(dicionario_meses)\n",
    "    df_extracao.sort_values(by=['Ano', 'Mes'], inplace=True)\n",
    "    df_extracao.reset_index(drop=True, inplace=True)\n",
    "    print(df_extracao.info())\n",
    "\n",
    "    df_extracao.to_excel('planilha.xlsx', index=False)\n",
    "\n",
    "    break"
   ]
  },
  {
   "cell_type": "code",
   "execution_count": 1,
   "metadata": {},
   "outputs": [
    {
     "ename": "FileNotFoundError",
     "evalue": "[Errno 2] No such file or directory: './pdf/guia_10.pdf'",
     "output_type": "error",
     "traceback": [
      "\u001b[1;31m---------------------------------------------------------------------------\u001b[0m",
      "\u001b[1;31mFileNotFoundError\u001b[0m                         Traceback (most recent call last)",
      "Cell \u001b[1;32mIn[1], line 8\u001b[0m\n\u001b[0;32m      4\u001b[0m \u001b[39mimport\u001b[39;00m \u001b[39mnumpy\u001b[39;00m \u001b[39mas\u001b[39;00m \u001b[39mnp\u001b[39;00m\n\u001b[0;32m      6\u001b[0m df_extracao \u001b[39m=\u001b[39m pd\u001b[39m.\u001b[39mDataFrame(columns\u001b[39m=\u001b[39m[\u001b[39m'\u001b[39m\u001b[39mMes\u001b[39m\u001b[39m'\u001b[39m, \u001b[39m'\u001b[39m\u001b[39mAno\u001b[39m\u001b[39m'\u001b[39m, \u001b[39m'\u001b[39m\u001b[39mValor\u001b[39m\u001b[39m'\u001b[39m])\n\u001b[1;32m----> 8\u001b[0m pdf_file \u001b[39m=\u001b[39m \u001b[39mopen\u001b[39;49m(\u001b[39mf\u001b[39;49m\u001b[39m'\u001b[39;49m\u001b[39m./pdf/guia_10.pdf\u001b[39;49m\u001b[39m'\u001b[39;49m, \u001b[39m'\u001b[39;49m\u001b[39mrb\u001b[39;49m\u001b[39m'\u001b[39;49m)\n\u001b[0;32m     10\u001b[0m read_pdf \u001b[39m=\u001b[39m PyPDF2\u001b[39m.\u001b[39mPdfReader(pdf_file)\n\u001b[0;32m     11\u001b[0m texto \u001b[39m=\u001b[39m read_pdf\u001b[39m.\u001b[39mpages[\u001b[39m0\u001b[39m]\u001b[39m.\u001b[39mextract_text()[:]\n",
      "File \u001b[1;32m~\\AppData\\Roaming\\Python\\Python310\\site-packages\\IPython\\core\\interactiveshell.py:282\u001b[0m, in \u001b[0;36m_modified_open\u001b[1;34m(file, *args, **kwargs)\u001b[0m\n\u001b[0;32m    275\u001b[0m \u001b[39mif\u001b[39;00m file \u001b[39min\u001b[39;00m {\u001b[39m0\u001b[39m, \u001b[39m1\u001b[39m, \u001b[39m2\u001b[39m}:\n\u001b[0;32m    276\u001b[0m     \u001b[39mraise\u001b[39;00m \u001b[39mValueError\u001b[39;00m(\n\u001b[0;32m    277\u001b[0m         \u001b[39mf\u001b[39m\u001b[39m\"\u001b[39m\u001b[39mIPython won\u001b[39m\u001b[39m'\u001b[39m\u001b[39mt let you open fd=\u001b[39m\u001b[39m{\u001b[39;00mfile\u001b[39m}\u001b[39;00m\u001b[39m by default \u001b[39m\u001b[39m\"\u001b[39m\n\u001b[0;32m    278\u001b[0m         \u001b[39m\"\u001b[39m\u001b[39mas it is likely to crash IPython. If you know what you are doing, \u001b[39m\u001b[39m\"\u001b[39m\n\u001b[0;32m    279\u001b[0m         \u001b[39m\"\u001b[39m\u001b[39myou can use builtins\u001b[39m\u001b[39m'\u001b[39m\u001b[39m open.\u001b[39m\u001b[39m\"\u001b[39m\n\u001b[0;32m    280\u001b[0m     )\n\u001b[1;32m--> 282\u001b[0m \u001b[39mreturn\u001b[39;00m io_open(file, \u001b[39m*\u001b[39margs, \u001b[39m*\u001b[39m\u001b[39m*\u001b[39mkwargs)\n",
      "\u001b[1;31mFileNotFoundError\u001b[0m: [Errno 2] No such file or directory: './pdf/guia_10.pdf'"
     ]
    }
   ],
   "source": [
    "import PyPDF2\n",
    "import re\n",
    "import pandas as pd\n",
    "import numpy as np\n",
    "\n",
    "df_extracao = pd.DataFrame(columns=['Mes', 'Ano', 'Valor'])\n",
    "\n",
    "pdf_file = open(f'./pdf/guia_10.pdf', 'rb')\n",
    "\n",
    "read_pdf = PyPDF2.PdfReader(pdf_file)\n",
    "texto = read_pdf.pages[0].extract_text()[:]\n",
    "\n",
    "mes = re.findall(r'[a-zA-Z]+\\/', texto)[0][:-1]\n",
    "print(mes)\n",
    "\n",
    "ano = re.findall(r'\\/[0-9]+', texto)[0][1:]\n",
    "print(ano)\n",
    "\n",
    "valor = re.findall(r'[0-9]+,[0-9]+CPF', texto)[0][:-3]\n",
    "valor = valor.replace(',', '.',)\n",
    "valor = float(valor)\n",
    "print(valor)\n",
    "\n",
    "df_extracao.loc[0] = [mes, ano, valor]\n",
    "df_extracao"
   ]
  },
  {
   "cell_type": "code",
   "execution_count": 18,
   "metadata": {},
   "outputs": [
    {
     "data": {
      "text/plain": [
       "'Marco/2019Data de Vencimento\\n05/04/2019Número do Documento\\n07.16.23047.9474608-2Pagar este documento até\\n16/02/2023Observacões\\nValor Total do Documento\\n145,32CPF Nome\\nCódigo Principal Denominacão Total Multa JurosComposicão do Documento de Arrecadacão\\n1251FGTS -INDENIZAÇÃO PERDA DE EMPREGO- DOMÉ 30,52 30,52\\n      01 FGTS - DEP COMPENSATÓRIO MENSAL\\n1718FUNDO DE GARANTIA DO TEMPO DE SERVIÇO - 76,32 76,32\\n      01 FGTS - DEPÓSITO MENSAL\\n1719ENCARGOS DO FGTS 38,48 38,48\\nTotais 145,32 145,32\\nSENDA (Versão:5.1.4) 16/02/2023 09:35:58 11 Página: /\\n \\n \\n85850000001 0 45320432230 4 47071623047 6 94746082580 5 AUTENTICAÇÃO MECÂNICA\\nDocumento de Arrecadacão do eSocial\\n85850000001 0 45320432230 4 47071623047 6\\n 006.356.893-40\\nNúmero: 07.16.23047.9474608-2\\nPagar até: 16/02/2023\\nValor: 145,3294746082580 5 CPF:Pague com o PIX\\n '"
      ]
     },
     "execution_count": 18,
     "metadata": {},
     "output_type": "execute_result"
    }
   ],
   "source": [
    "pdf_file = open(f'./pdf/guia_10.pdf', 'rb')\n",
    "\n",
    "read_pdf = PyPDF2.PdfReader(pdf_file)\n",
    "texto = read_pdf.pages[0].extract_text()[105:]\n",
    "texto = texto.replace('ç', 'c')\n",
    "texto"
   ]
  },
  {
   "cell_type": "code",
   "execution_count": 19,
   "metadata": {},
   "outputs": [
    {
     "data": {
      "text/plain": [
       "'Março/2021Data de Vencimento\\n07/04/2021Número do Documento\\n07.16.23048.1833182-0Pagar este documento até\\n17/02/2023Observações\\nValor Total do Documento\\n152,52CPF Nome\\nCódigo Principal Denominação Total Multa JurosComposição do Documento de Arrecadação\\n1251FGTS -INDENIZAÇÃO PERDA DE EMPREGO- DOMÉ 35,20 35,20\\n      01 FGTS - DEP COMPENSATÓRIO MENSAL\\n1718FUNDO DE GARANTIA DO TEMPO DE SERVIÇO - 88,00 88,00\\n      01 FGTS - DEPÓSITO MENSAL\\n1719ENCARGOS DO FGTS 29,32 29,32\\nTotais 152,52 152,52\\nSENDA (Versão:5.1.4) 17/02/2023 10:52:13 11 Página: /\\n \\n \\n85830000001 7 52520432230 5 48071623048 1 18331820202 5 AUTENTICAÇÃO MECÂNICA\\nDocumento de Arrecadação do eSocial\\n85830000001 7 52520432230 5 48071623048 1\\n 006.356.893-40\\nNúmero: 07.16.23048.1833182-0\\nPagar até: 17/02/2023\\nValor: 152,5218331820202 5 CPF:Pague com o PIX\\n '"
      ]
     },
     "execution_count": 19,
     "metadata": {},
     "output_type": "execute_result"
    }
   ],
   "source": [
    "pdf_file = open(f'./pdf/guia_33.pdf', 'rb')\n",
    "\n",
    "read_pdf = PyPDF2.PdfReader(pdf_file)\n",
    "read_pdf.pages[0].extract_text()[105:]"
   ]
  },
  {
   "cell_type": "code",
   "execution_count": null,
   "metadata": {},
   "outputs": [],
   "source": []
  }
 ],
 "metadata": {
  "kernelspec": {
   "display_name": "Python 3",
   "language": "python",
   "name": "python3"
  },
  "language_info": {
   "codemirror_mode": {
    "name": "ipython",
    "version": 3
   },
   "file_extension": ".py",
   "mimetype": "text/x-python",
   "name": "python",
   "nbconvert_exporter": "python",
   "pygments_lexer": "ipython3",
   "version": "3.10.6"
  },
  "orig_nbformat": 4,
  "vscode": {
   "interpreter": {
    "hash": "2392a14f755a5376e579ca32ecfd51d1aec60045b0679407e86449f93dd6db3d"
   }
  }
 },
 "nbformat": 4,
 "nbformat_minor": 2
}
